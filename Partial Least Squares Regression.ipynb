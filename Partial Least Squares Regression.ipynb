{
 "cells": [
  {
   "cell_type": "markdown",
   "metadata": {},
   "source": [
    "PLS makes a regression model from X to Y so that in the future we only need X and can predict Y from X. - https://www.youtube.com/watch?v=AxmqUKYeD-U&t=110s"
   ]
  },
  {
   "cell_type": "markdown",
   "metadata": {},
   "source": [
    "El objetivo de PLS es abordar el analisis de efecto que multiples variables predictoras relacionadas entre si tienen sobre una variable respuesta. Para ello, se encuentra combinaciones lineales de las variables predictoras que simultaneamente maximizan la explicacion de la variable respuesta. Esto es, no se obtienen combinaciones lineales entre variables explicativas teniendo en cuenta solo las relaciones que se establecen entre ellas, como hace el PCA, sino que en esta definicion de \"componentes\" del PLS se tiene en cuenta la maximizacion de la explicacion de la variable respuesta. \n",
    "\n",
    "El PLS manifiesta un grado similar de explicacion de la variable respuesta que la regresion multiple, o la combinacion de PCA+RM. Sin embargo, es mas potente y robusto identificando las variables predictoras relevantes que tienen efecto sobre la variable respuesta, asi como las magnitudes de sus efectos parciales, especialmente cuando las variables predictoras estan muy relacionadas entre si y cuando el tamaño muestral es pequeño en relacion con el numero de las variables predictoras. - curso2015"
   ]
  },
  {
   "cell_type": "markdown",
   "metadata": {},
   "source": [
    "**Respone or dependent variables:** Variables that are measured or observed\n",
    "**Predictor, explanatory or independent variables:** Variables that affect the response and can be set or measured by the experimenter.\n",
    "\n",
    "So my predictor variables should be the grouping workscope, CSN and TSN of the engine while my response variables are the EGTM and the AM simulations.\n",
    "\n",
    "In my predictors I have a factor that would be my different grouping workscope and and my covariate is the different CSN and TSN"
   ]
  },
  {
   "cell_type": "code",
   "execution_count": 27,
   "metadata": {},
   "outputs": [
    {
     "data": {
      "image/png": "[encoded data removed]",
      "text/plain": [
       "<matplotlib.figure.Figure at 0xb6d5748>"
      ]
     },
     "metadata": {},
     "output_type": "display_data"
    }
   ],
   "source": [
    "%matplotlib inline\n",
    "import pandas as pd\n",
    "from sklearn import preprocessing\n",
    "import matplotlib.pyplot as plt\n",
    "df = pd.read_excel('//kl1015cy/home$/klm76343/Desktop/000 Thesis/01 KLM/01 Documents/02 EXCEL/010 Statistics_bewteen_model_cases.xlsx',\n",
    "                   'CASE-A')\n",
    "\n",
    "data = [df['EGTM'],df['dEta_is_c_LPC_2 [%]'], df['dWc_c_LPC_2 [%]'], df['dWc_d_LPC_2 [%]'], df['dEta_is_HPC_2 [%]'], df['dWc_HPC_2 [%]'], df['dEta_is_HPT_2 [%]'], df['dWc_HPT_2 [%]'], df['dEta_is_LPT_2 [%]'], df['dWc_LPT_2 [%]']]\n",
    "plt.boxplot(data)\n",
    "title = \"Raw Data\"\n",
    "plt.title(title)\n",
    "plt.show()"
   ]
  },
  {
   "cell_type": "markdown",
   "metadata": {},
   "source": [
    "The data is centered and scaled so there are no magnitud related effects on the output."
   ]
  },
  {
   "cell_type": "code",
   "execution_count": 28,
   "metadata": {},
   "outputs": [
    {
     "data": {
      "image/png": "[encoded data removed]",
      "text/plain": [
       "<matplotlib.figure.Figure at 0xce46978>"
      ]
     },
     "metadata": {},
     "output_type": "display_data"
    }
   ],
   "source": [
    "%matplotlib inline\n",
    "import pandas as pd\n",
    "from sklearn import preprocessing\n",
    "import matplotlib.pyplot as plt\n",
    "df = pd.read_excel('//kl1015cy/home$/klm76343/Desktop/000 Thesis/01 KLM/01 Documents/02 EXCEL/010 Statistics_bewteen_model_cases.xlsx',\n",
    "                   'CASE-A')\n",
    "\n",
    "EGTM_scaled = preprocessing.scale(df['EGTM'])\n",
    "Eta_core_LPC = preprocessing.scale(df['dEta_is_c_LPC_2 [%]'])\n",
    "Wc_core_LPC = preprocessing.scale(df['dWc_c_LPC_2 [%]'])\n",
    "Wc_bypass_LPC = preprocessing.scale(df['dWc_d_LPC_2 [%]'])\n",
    "Eta_HPC = preprocessing.scale(df['dEta_is_HPC_2 [%]'])\n",
    "Wc_HPC = preprocessing.scale(df['dWc_HPC_2 [%]'])\n",
    "Eta_HPT = preprocessing.scale(df['dEta_is_HPT_2 [%]'])\n",
    "Wc_HPT = preprocessing.scale(df['dWc_HPT_2 [%]'])\n",
    "Eta_LPT = preprocessing.scale(df['dEta_is_LPT_2 [%]'])\n",
    "Wc_LPT = preprocessing.scale(df['dWc_LPT_2 [%]'])\n",
    "\n",
    "data = [EGTM_scaled,Eta_core_LPC, Wc_core_LPC, Wc_bypass_LPC, Eta_HPC,Wc_HPC, Eta_HPT, Wc_HPT, Eta_LPT, Wc_LPT]\n",
    "plt.boxplot(data)\n",
    "title = \"Centered and scaled to unit variance\"\n",
    "plt.title(title)\n",
    "plt.show()"
   ]
  },
  {
   "cell_type": "code",
   "execution_count": 21,
   "metadata": {},
   "outputs": [
    {
     "ename": "ImportError",
     "evalue": "cannot import name __check_build",
     "output_type": "error",
     "traceback": [
      "\u001b[0;31m---------------------------------------------------------------------------\u001b[0m",
      "\u001b[0;31mImportError\u001b[0m                               Traceback (most recent call last)",
      "\u001b[0;32m<ipython-input-21-4a3a54ced9f1>\u001b[0m in \u001b[0;36m<module>\u001b[0;34m()\u001b[0m\n\u001b[0;32m----> 1\u001b[0;31m \u001b[1;32mfrom\u001b[0m \u001b[0msklearn\u001b[0m \u001b[1;32mimport\u001b[0m \u001b[0mpreprocessing\u001b[0m\u001b[1;33m\u001b[0m\u001b[0m\n\u001b[0m\u001b[1;32m      2\u001b[0m \u001b[1;33m\u001b[0m\u001b[0m\n\u001b[1;32m      3\u001b[0m \u001b[1;33m\u001b[0m\u001b[0m\n\u001b[1;32m      4\u001b[0m \u001b[0mETA_LPC\u001b[0m \u001b[1;33m=\u001b[0m \u001b[1;33m[\u001b[0m\u001b[1;36m1.00\u001b[0m\u001b[1;33m,\u001b[0m\u001b[1;33m-\u001b[0m\u001b[1;36m0.67\u001b[0m\u001b[1;33m,\u001b[0m\u001b[1;36m0.24\u001b[0m\u001b[1;33m,\u001b[0m\u001b[1;36m0.07\u001b[0m\u001b[1;33m,\u001b[0m\u001b[1;36m0.00\u001b[0m\u001b[1;33m,\u001b[0m\u001b[1;33m-\u001b[0m\u001b[1;36m0.17\u001b[0m\u001b[1;33m,\u001b[0m\u001b[1;33m-\u001b[0m\u001b[1;36m0.40\u001b[0m\u001b[1;33m,\u001b[0m\u001b[1;33m-\u001b[0m\u001b[1;36m0.13\u001b[0m\u001b[1;33m,\u001b[0m\u001b[1;33m-\u001b[0m\u001b[1;36m0.32\u001b[0m\u001b[1;33m,\u001b[0m\u001b[1;33m-\u001b[0m\u001b[1;36m0.39\u001b[0m\u001b[1;33m,\u001b[0m\u001b[1;36m0.15\u001b[0m\u001b[1;33m,\u001b[0m\u001b[1;33m-\u001b[0m\u001b[1;36m0.34\u001b[0m\u001b[1;33m]\u001b[0m\u001b[1;33m\u001b[0m\u001b[0m\n\u001b[1;32m      5\u001b[0m \u001b[0mETA_LPC_G\u001b[0m\u001b[1;33m=\u001b[0m \u001b[0mpreprocessing\u001b[0m\u001b[1;33m.\u001b[0m\u001b[0mscale\u001b[0m\u001b[1;33m(\u001b[0m\u001b[0mETA_LPC\u001b[0m\u001b[1;33m)\u001b[0m\u001b[1;33m\u001b[0m\u001b[0m\n",
      "\u001b[0;32mc:\\users\\klm76343\\appdata\\local\\continuum\\anaconda2\\lib\\site-packages\\sklearn\\__init__.py\u001b[0m in \u001b[0;36m<module>\u001b[0;34m()\u001b[0m\n\u001b[1;32m     54\u001b[0m     \u001b[1;31m# process, as it may not be compiled yet\u001b[0m\u001b[1;33m\u001b[0m\u001b[1;33m\u001b[0m\u001b[0m\n\u001b[1;32m     55\u001b[0m \u001b[1;32melse\u001b[0m\u001b[1;33m:\u001b[0m\u001b[1;33m\u001b[0m\u001b[0m\n\u001b[0;32m---> 56\u001b[0;31m     \u001b[1;32mfrom\u001b[0m \u001b[1;33m.\u001b[0m \u001b[1;32mimport\u001b[0m \u001b[0m__check_build\u001b[0m\u001b[1;33m\u001b[0m\u001b[0m\n\u001b[0m\u001b[1;32m     57\u001b[0m     \u001b[1;32mfrom\u001b[0m \u001b[1;33m.\u001b[0m\u001b[0mbase\u001b[0m \u001b[1;32mimport\u001b[0m \u001b[0mclone\u001b[0m\u001b[1;33m\u001b[0m\u001b[0m\n\u001b[1;32m     58\u001b[0m     \u001b[0m__check_build\u001b[0m  \u001b[1;31m# avoid flakes unused variable error\u001b[0m\u001b[1;33m\u001b[0m\u001b[0m\n",
      "\u001b[0;31mImportError\u001b[0m: cannot import name __check_build"
     ]
    }
   ],
   "source": []
  }
 ],
 "metadata": {
  "kernelspec": {
   "display_name": "Python 2",
   "language": "python",
   "name": "python2"
  },
  "language_info": {
   "codemirror_mode": {
    "name": "ipython",
    "version": 2
   },
   "file_extension": ".py",
   "mimetype": "text/x-python",
   "name": "python",
   "nbconvert_exporter": "python",
   "pygments_lexer": "ipython2",
   "version": "2.7.13"
  }
 },
 "nbformat": 4,
 "nbformat_minor": 2
}
